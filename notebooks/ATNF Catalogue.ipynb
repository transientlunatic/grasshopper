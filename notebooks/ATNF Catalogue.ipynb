{
 "cells": [
  {
   "cell_type": "code",
   "execution_count": 35,
   "metadata": {
    "collapsed": false
   },
   "outputs": [],
   "source": [
    "import urllib\n",
    "import numpy as np\n",
    "import os\n",
    "import pandas as pd\n",
    "import datetime\n",
    "import astropy.table\n",
    "import astropy.units as u\n",
    "from astropy.time import Time\n",
    "\n",
    "def ATNFpulsarlist(save=False):\n",
    "        \"\"\"\n",
    "        Contact the ATNF pulsar catalogue, returning an array of data.\n",
    "        Each row corresponding to one pulsar, with columns in the format:\n",
    "        \"\"\"\n",
    "\n",
    "        tnow = datetime.datetime.today()\n",
    "        try:\n",
    "            tdata = datetime.datetime.fromtimestamp(\n",
    "                    os.path.getmtime('pulsar_data.txt')\n",
    "                    )\n",
    "        except:\n",
    "            tdata = datetime.datetime(1977,1,1)\n",
    "        dt = tnow - tdata\n",
    "        if dt.days > 20:\n",
    "\n",
    "            try:\n",
    "                #URL to get |NAME|PSRJ|RAJ|DECJ|POSEPOCH|F0|F1|F2|PEPOCH|DM|W50|W10|S400|S1400|SPINDX|PSRTYPE|NGLT|\n",
    "                url2 = 'http://www.atnf.csiro.au/research/pulsar/psrcat/proc_form.php?version=1.54&Name=Name&JName=JName&RaJ=RaJ&DecJ=DecJ&PosEpoch=PosEpoch&F0=F0&F1=F1&F2=F2&PEpoch=PEpoch&DM=DM&DIST=DIST&W50=W50&W10=W10&S400=S400&S1400=S1400&SPINDX=SPINDX&Type=Type&NGlt=NGlt&startUserDefined=true&c1_val=&c2_val=&c3_val=&c4_val=&sort_attr=jname&sort_order=asc&condition=&pulsar_names=&ephemeris=short&coords_unit=raj/decj&radius=&coords_1=&coords_2=&style=Short+without+errors&no_value=*&fsize=3&x_axis=&x_scale=linear&y_axis=&y_scale=linear&state=query&table_bottom.x=40&table_bottom.y=24'\n",
    "                Hurl2='#NAME|PSRJ|RAJ|DECJ|POSEPOCH|F0|F1|F2|PEPOCH|DM|W50|W10|S400|S1400|SPINDX|PSRTYPE|NGLT\\n'\n",
    "                sock = urllib.urlopen(url2)\n",
    "                data = sock.read()\n",
    "                sock.close()\n",
    "\n",
    "\n",
    "                data = data.split('<pre>')[1]\n",
    "                data = data.split('</pre>')[0]\n",
    "                data = data.splitlines()[5:-1]\n",
    "\n",
    "                header = \"Name|PSRJ|RAJ|DECJ|POSEPOCH|F0|F1|F2|PEPOCH|DM|DIST|W50|W10|S400|S1400|SPINDX|PSRTYPE|NGLT\".split('|')\n",
    "\n",
    "                df = pd.DataFrame(columns=header)\n",
    "\n",
    "                for b in data:\n",
    "                    b = b.split()\n",
    "                    try:\n",
    "                        df = df.append(pd.Series(b[1:], index=header, name=b[0]))\n",
    "                    except:\n",
    "                        pass\n",
    "                del(df[''])\n",
    "\n",
    "                \n",
    "\n",
    "            except:\n",
    "                pass\n",
    "        \n",
    "            df.to_csv('pulsar_data.txt', header=header)\n",
    "        else:\n",
    "            df = pd.read_csv('pulsar_data.txt', na_values='*')\n",
    "        \n",
    "        a = astropy.table.Table.from_pandas(df)\n",
    "        \n",
    "        a['RAJ'].unit = u.hourangle\n",
    "        a['DECJ'].unit = u.deg\n",
    "        a['F0'].unit = u.hertz\n",
    "        a['F1'].unit = u.hertz / u.second\n",
    "        a['F2'].unit = u.hertz / u.second**2\n",
    "        a['DIST'].unit = u.kiloparsec\n",
    "        a['W50'].unit = u.millisecond\n",
    "        a['W10'].unit = u.millisecond\n",
    "        a['DM'].unit = u.centimeter**(-3) * u.parsec\n",
    "        #a['EDOT'].unit = u.erg / u.second\n",
    "        a.add_index('Unnamed: 0')\n",
    "        a.rename_column('Unnamed: 0', '#')\n",
    "        a['POS'] = SkyCoord(a['RAJ'], a['DECJ'], unit=(a['RAJ'].unit, a['DECJ'].unit))\n",
    "        return a"
   ]
  },
  {
   "cell_type": "code",
   "execution_count": 36,
   "metadata": {
    "collapsed": false
   },
   "outputs": [],
   "source": [
    "a = ATNFpulsarlist()"
   ]
  },
  {
   "cell_type": "code",
   "execution_count": 37,
   "metadata": {
    "collapsed": false
   },
   "outputs": [
    {
     "data": {
      "text/html": [
       "&lt;Table masked=True length=2536&gt;\n",
       "<table id=\"table139719180766736\">\n",
       "<thead><tr><th>#</th><th>Name</th><th>PSRJ</th><th>RAJ</th><th>DECJ</th><th>POSEPOCH</th><th>F0</th><th>F1</th><th>F2</th><th>PEPOCH</th><th>DM</th><th>DIST</th><th>W50</th><th>W10</th><th>S400</th><th>S1400</th><th>SPINDX</th><th>PSRTYPE</th><th>NGLT</th><th>POS</th></tr></thead>\n",
       "<thead><tr><th></th><th></th><th></th><th>hourangle</th><th>deg</th><th></th><th>Hz</th><th>Hz / s</th><th>Hz / s2</th><th></th><th>pc / cm3</th><th>kpc</th><th>ms</th><th>ms</th><th></th><th></th><th></th><th></th><th></th><th>deg,deg</th></tr></thead>\n",
       "<thead><tr><th>int64</th><th>str12</th><th>str12</th><th>str10</th><th>str11</th><th>float64</th><th>float64</th><th>float64</th><th>float64</th><th>float64</th><th>float64</th><th>float64</th><th>float64</th><th>float64</th><th>float64</th><th>float64</th><th>float64</th><th>str25</th><th>float64</th><th>object</th></tr></thead>\n",
       "<tr><td>1</td><td>J0006+1834</td><td>J0006+1834</td><td>00:06:04.8</td><td>+18:34:59</td><td>49079.5</td><td>1.441446</td><td>-4.357e-15</td><td>--</td><td>49079.5</td><td>12.0</td><td>0.7</td><td>82.0</td><td>195.0</td><td>0.2</td><td>--</td><td>--</td><td>--</td><td>--</td><td>1.52,18.5830555556</td></tr>\n",
       "<tr><td>2</td><td>J0007+7303</td><td>J0007+7303</td><td>00:07:01.7</td><td>+73:03:07.4</td><td>54952.0</td><td>3.165827</td><td>-3.612e-12</td><td>4.1e-23</td><td>54952.0</td><td>--</td><td>1.4</td><td>--</td><td>--</td><td>--</td><td>--</td><td>--</td><td>NRAD</td><td>1.0</td><td>1.75708333333,73.0520555556</td></tr>\n",
       "<tr><td>3</td><td>B0011+47</td><td>J0014+4746</td><td>00:14:17.7</td><td>+47:46:33.4</td><td>49664.0</td><td>0.805997</td><td>-3.667e-16</td><td>7.3e-28</td><td>49664.0</td><td>30.85</td><td>1.82</td><td>88.7</td><td>142.5</td><td>14.0</td><td>3.0</td><td>-1.3</td><td>--</td><td>--</td><td>3.57375,47.7759444444</td></tr>\n",
       "<tr><td>4</td><td>J0023+0923</td><td>J0023+0923</td><td>00:23:16.8</td><td>+09:23:23.8</td><td>56179.0</td><td>327.868852</td><td>--</td><td>--</td><td>--</td><td>14.3</td><td>1.0</td><td>--</td><td>--</td><td>2.0</td><td>--</td><td>--</td><td>HE</td><td>--</td><td>5.82,9.38994444444</td></tr>\n",
       "<tr><td>5</td><td>B0021-72C</td><td>J0024-7204C</td><td>00:23:50.3</td><td>-72:04:31.4</td><td>51600.0</td><td>173.708219</td><td>1.504e-15</td><td>--</td><td>51600.0</td><td>24.6</td><td>4.0</td><td>0.8</td><td>--</td><td>1.53</td><td>0.6</td><td>--</td><td>--</td><td>--</td><td>5.95958333333,-72.0753888889</td></tr>\n",
       "<tr><td>6</td><td>B0021-72D</td><td>J0024-7204D</td><td>00:24:13.8</td><td>-72:04:43.8</td><td>51600.0</td><td>186.65167</td><td>1.195e-16</td><td>--</td><td>51600.0</td><td>24.73</td><td>4.0</td><td>0.6</td><td>--</td><td>0.95</td><td>--</td><td>--</td><td>--</td><td>--</td><td>6.0575,-72.0788333333</td></tr>\n",
       "<tr><td>7</td><td>B0021-72E</td><td>J0024-7204E</td><td>00:24:11.1</td><td>-72:05:20.1</td><td>51600.0</td><td>282.779107</td><td>-7.877e-15</td><td>--</td><td>51600.0</td><td>24.23</td><td>4.0</td><td>0.9</td><td>--</td><td>--</td><td>--</td><td>--</td><td>--</td><td>--</td><td>6.04625,-72.0889166667</td></tr>\n",
       "<tr><td>8</td><td>B0021-72F</td><td>J0024-7204F</td><td>00:24:03.8</td><td>-72:04:42.8</td><td>51600.0</td><td>381.158664</td><td>-9.371e-15</td><td>--</td><td>51600.0</td><td>24.38</td><td>4.0</td><td>0.5</td><td>--</td><td>--</td><td>--</td><td>--</td><td>--</td><td>--</td><td>6.01583333333,-72.0785555556</td></tr>\n",
       "<tr><td>9</td><td>B0021-72G</td><td>J0024-7204G</td><td>00:24:07.9</td><td>-72:04:39.6</td><td>51600.0</td><td>247.501525</td><td>2.582e-15</td><td>--</td><td>51600.0</td><td>24.44</td><td>4.0</td><td>0.7</td><td>--</td><td>--</td><td>--</td><td>--</td><td>--</td><td>--</td><td>6.03291666667,-72.0776666667</td></tr>\n",
       "<tr><td>...</td><td>...</td><td>...</td><td>...</td><td>...</td><td>...</td><td>...</td><td>...</td><td>...</td><td>...</td><td>...</td><td>...</td><td>...</td><td>...</td><td>...</td><td>...</td><td>...</td><td>...</td><td>...</td><td>...</td></tr>\n",
       "<tr><td>2527</td><td>B2327-20</td><td>J2330-2005</td><td>23:30:26.8</td><td>-20:05:29.6</td><td>49878.0</td><td>0.608412</td><td>-1.714e-15</td><td>3.4e-29</td><td>49878.0</td><td>8.46</td><td>0.47</td><td>17.2</td><td>35.0</td><td>42.0</td><td>3.0</td><td>-2.0</td><td>--</td><td>--</td><td>352.611666667,-20.0915555556</td></tr>\n",
       "<tr><td>2528</td><td>J2333+6145</td><td>J2333+6145</td><td>23:33:19.4</td><td>+61:45:30.0</td><td>56100.0</td><td>1.32118</td><td>-2.053e-15</td><td>--</td><td>56100.0</td><td>125.0</td><td>5.01</td><td>--</td><td>--</td><td>--</td><td>0.47</td><td>--</td><td>--</td><td>--</td><td>353.330833333,61.7583333333</td></tr>\n",
       "<tr><td>2529</td><td>B2334+61</td><td>J2337+6151</td><td>23:37:05.7</td><td>+61:51:01.5</td><td>53100.0</td><td>2.018694</td><td>-7.883e-13</td><td>1.446e-23</td><td>54521.0</td><td>58.41</td><td>0.7</td><td>14.5</td><td>35.7</td><td>10.0</td><td>1.4</td><td>-1.7</td><td>--</td><td>1.0</td><td>354.27375,61.8504166667</td></tr>\n",
       "<tr><td>2530</td><td>J2339-0533</td><td>J2339-0533</td><td>23:39:38.7</td><td>-05:33:05.3</td><td>55100.0</td><td>346.713379</td><td>-1.695e-15</td><td>--</td><td>55100.0</td><td>--</td><td>1.1</td><td>--</td><td>--</td><td>--</td><td>--</td><td>--</td><td>HE[rbs+14]</td><td>--</td><td>354.91125,-5.55147222222</td></tr>\n",
       "<tr><td>2531</td><td>J2340+08</td><td>J2340+08</td><td>23:40:45</td><td>+08:33:00</td><td>56098.0</td><td>3.297066</td><td>--</td><td>--</td><td>56098.0</td><td>24.0</td><td>2.28</td><td>--</td><td>--</td><td>--</td><td>--</td><td>--</td><td>--</td><td>--</td><td>355.1875,8.55</td></tr>\n",
       "<tr><td>2532</td><td>J2343+6221</td><td>J2343+6221</td><td>23:43</td><td>+62:21</td><td>--</td><td>0.555864</td><td>--</td><td>--</td><td>--</td><td>117.0</td><td>4.59</td><td>--</td><td>--</td><td>--</td><td>--</td><td>--</td><td>--</td><td>--</td><td>355.75,62.35</td></tr>\n",
       "<tr><td>2533</td><td>J2346-0609</td><td>J2346-0609</td><td>23:46:50.4</td><td>-06:09:59.5</td><td>51021.0</td><td>0.846408</td><td>-9.765e-16</td><td>-1.1e-27</td><td>51021.0</td><td>22.5</td><td>1.96</td><td>69.0</td><td>73.0</td><td>11.0</td><td>2.0</td><td>--</td><td>--</td><td>--</td><td>356.71,-6.16652777778</td></tr>\n",
       "<tr><td>2534</td><td>J2352+65</td><td>J2352+65</td><td>23:52</td><td>+65</td><td>--</td><td>0.859107</td><td>--</td><td>--</td><td>--</td><td>152.0</td><td>7.72</td><td>--</td><td>--</td><td>26.5</td><td>--</td><td>--</td><td>--</td><td>--</td><td>358.0,65.0</td></tr>\n",
       "<tr><td>2535</td><td>J2353+85</td><td>J2353+85</td><td>23:54</td><td>+85:34</td><td>--</td><td>0.988444</td><td>--</td><td>--</td><td>--</td><td>38.0</td><td>3.55</td><td>--</td><td>--</td><td>4.9</td><td>--</td><td>--</td><td>--</td><td>--</td><td>358.5,85.5666666667</td></tr>\n",
       "<tr><td>2536</td><td>B2351+61</td><td>J2354+6155</td><td>23:54:04.7</td><td>+61:55:46.7</td><td>49405.0</td><td>1.058443</td><td>-1.822e-14</td><td>2.4e-26</td><td>49405.0</td><td>94.66</td><td>3.31</td><td>10.4</td><td>37.0</td><td>15.1</td><td>5.0</td><td>-1.1</td><td>--</td><td>--</td><td>358.519583333,61.9296388889</td></tr>\n",
       "</table>"
      ],
      "text/plain": [
       "<Table masked=True length=2536>\n",
       "  #      Name        PSRJ    ...  PSRTYPE     NGLT              POS             \n",
       "                             ...                              deg,deg           \n",
       "int64   str12       str12    ...   str25    float64            object           \n",
       "----- ---------- ----------- ... ---------- ------- ----------------------------\n",
       "    1 J0006+1834  J0006+1834 ...         --      --           1.52,18.5830555556\n",
       "    2 J0007+7303  J0007+7303 ...       NRAD     1.0  1.75708333333,73.0520555556\n",
       "    3   B0011+47  J0014+4746 ...         --      --        3.57375,47.7759444444\n",
       "    4 J0023+0923  J0023+0923 ...         HE      --           5.82,9.38994444444\n",
       "    5  B0021-72C J0024-7204C ...         --      -- 5.95958333333,-72.0753888889\n",
       "    6  B0021-72D J0024-7204D ...         --      --        6.0575,-72.0788333333\n",
       "    7  B0021-72E J0024-7204E ...         --      --       6.04625,-72.0889166667\n",
       "    8  B0021-72F J0024-7204F ...         --      -- 6.01583333333,-72.0785555556\n",
       "    9  B0021-72G J0024-7204G ...         --      -- 6.03291666667,-72.0776666667\n",
       "  ...        ...         ... ...        ...     ...                          ...\n",
       " 2527   B2327-20  J2330-2005 ...         --      -- 352.611666667,-20.0915555556\n",
       " 2528 J2333+6145  J2333+6145 ...         --      --  353.330833333,61.7583333333\n",
       " 2529   B2334+61  J2337+6151 ...         --     1.0      354.27375,61.8504166667\n",
       " 2530 J2339-0533  J2339-0533 ... HE[rbs+14]      --     354.91125,-5.55147222222\n",
       " 2531   J2340+08    J2340+08 ...         --      --                355.1875,8.55\n",
       " 2532 J2343+6221  J2343+6221 ...         --      --                 355.75,62.35\n",
       " 2533 J2346-0609  J2346-0609 ...         --      --        356.71,-6.16652777778\n",
       " 2534   J2352+65    J2352+65 ...         --      --                   358.0,65.0\n",
       " 2535   J2353+85    J2353+85 ...         --      --          358.5,85.5666666667\n",
       " 2536   B2351+61  J2354+6155 ...         --      --  358.519583333,61.9296388889"
      ]
     },
     "execution_count": 37,
     "metadata": {},
     "output_type": "execute_result"
    }
   ],
   "source": [
    "a"
   ]
  },
  {
   "cell_type": "code",
   "execution_count": null,
   "metadata": {
    "collapsed": true
   },
   "outputs": [],
   "source": [
    "from astropy.coordinates import SkyCoord, ICRS"
   ]
  },
  {
   "cell_type": "code",
   "execution_count": 24,
   "metadata": {
    "collapsed": false
   },
   "outputs": [],
   "source": [
    "import matplotlib.pyplot as plt"
   ]
  },
  {
   "cell_type": "code",
   "execution_count": 25,
   "metadata": {
    "collapsed": false
   },
   "outputs": [
    {
     "data": {
      "text/latex": [
       "$54^\\circ28{}^\\prime08.9995{}^{\\prime\\prime}$"
      ],
      "text/plain": [
       "<Angle 54.46916653982224 deg>"
      ]
     },
     "execution_count": 25,
     "metadata": {},
     "output_type": "execute_result"
    }
   ],
   "source": [
    "a['POS'][0].separation(a['POS'][1])"
   ]
  },
  {
   "cell_type": "code",
   "execution_count": 26,
   "metadata": {
    "collapsed": false
   },
   "outputs": [
    {
     "data": {
      "text/html": [
       "&lt;Table masked=True length=2536&gt;\n",
       "<table id=\"table139719179533968\">\n",
       "<thead><tr><th>#</th><th>Name</th><th>PSRJ</th><th>RAJ</th><th>DECJ</th><th>POSEPOCH</th><th>F0</th><th>F1</th><th>F2</th><th>PEPOCH</th><th>DM</th><th>DIST</th><th>W50</th><th>W10</th><th>S400</th><th>S1400</th><th>SPINDX</th><th>PSRTYPE</th><th>NGLT</th><th>POS</th></tr></thead>\n",
       "<thead><tr><th></th><th></th><th></th><th>hourangle</th><th>deg</th><th></th><th>Hz</th><th>Hz / s</th><th>Hz / s2</th><th>mjupiterMass</th><th>pc / cm3</th><th>kpc</th><th>ms</th><th>ms</th><th></th><th></th><th></th><th></th><th></th><th>deg,deg</th></tr></thead>\n",
       "<thead><tr><th>int64</th><th>str12</th><th>str12</th><th>str10</th><th>str11</th><th>float64</th><th>float64</th><th>float64</th><th>float64</th><th>float64</th><th>float64</th><th>float64</th><th>float64</th><th>float64</th><th>float64</th><th>float64</th><th>float64</th><th>str25</th><th>float64</th><th>object</th></tr></thead>\n",
       "<tr><td>1</td><td>J0006+1834</td><td>J0006+1834</td><td>00:06:04.8</td><td>+18:34:59</td><td>49079.5</td><td>1.441446</td><td>-4.357e-15</td><td>--</td><td>49079.5</td><td>12.0</td><td>0.7</td><td>82.0</td><td>195.0</td><td>0.2</td><td>--</td><td>--</td><td>--</td><td>--</td><td>1.52,18.5830555556</td></tr>\n",
       "<tr><td>2</td><td>J0007+7303</td><td>J0007+7303</td><td>00:07:01.7</td><td>+73:03:07.4</td><td>54952.0</td><td>3.165827</td><td>-3.612e-12</td><td>4.1e-23</td><td>54952.0</td><td>--</td><td>1.4</td><td>--</td><td>--</td><td>--</td><td>--</td><td>--</td><td>NRAD</td><td>1.0</td><td>1.75708333333,73.0520555556</td></tr>\n",
       "<tr><td>3</td><td>B0011+47</td><td>J0014+4746</td><td>00:14:17.7</td><td>+47:46:33.4</td><td>49664.0</td><td>0.805997</td><td>-3.667e-16</td><td>7.3e-28</td><td>49664.0</td><td>30.85</td><td>1.82</td><td>88.7</td><td>142.5</td><td>14.0</td><td>3.0</td><td>-1.3</td><td>--</td><td>--</td><td>3.57375,47.7759444444</td></tr>\n",
       "<tr><td>4</td><td>J0023+0923</td><td>J0023+0923</td><td>00:23:16.8</td><td>+09:23:23.8</td><td>56179.0</td><td>327.868852</td><td>--</td><td>--</td><td>--</td><td>14.3</td><td>1.0</td><td>--</td><td>--</td><td>2.0</td><td>--</td><td>--</td><td>HE</td><td>--</td><td>5.82,9.38994444444</td></tr>\n",
       "<tr><td>5</td><td>B0021-72C</td><td>J0024-7204C</td><td>00:23:50.3</td><td>-72:04:31.4</td><td>51600.0</td><td>173.708219</td><td>1.504e-15</td><td>--</td><td>51600.0</td><td>24.6</td><td>4.0</td><td>0.8</td><td>--</td><td>1.53</td><td>0.6</td><td>--</td><td>--</td><td>--</td><td>5.95958333333,-72.0753888889</td></tr>\n",
       "<tr><td>6</td><td>B0021-72D</td><td>J0024-7204D</td><td>00:24:13.8</td><td>-72:04:43.8</td><td>51600.0</td><td>186.65167</td><td>1.195e-16</td><td>--</td><td>51600.0</td><td>24.73</td><td>4.0</td><td>0.6</td><td>--</td><td>0.95</td><td>--</td><td>--</td><td>--</td><td>--</td><td>6.0575,-72.0788333333</td></tr>\n",
       "<tr><td>7</td><td>B0021-72E</td><td>J0024-7204E</td><td>00:24:11.1</td><td>-72:05:20.1</td><td>51600.0</td><td>282.779107</td><td>-7.877e-15</td><td>--</td><td>51600.0</td><td>24.23</td><td>4.0</td><td>0.9</td><td>--</td><td>--</td><td>--</td><td>--</td><td>--</td><td>--</td><td>6.04625,-72.0889166667</td></tr>\n",
       "<tr><td>8</td><td>B0021-72F</td><td>J0024-7204F</td><td>00:24:03.8</td><td>-72:04:42.8</td><td>51600.0</td><td>381.158664</td><td>-9.371e-15</td><td>--</td><td>51600.0</td><td>24.38</td><td>4.0</td><td>0.5</td><td>--</td><td>--</td><td>--</td><td>--</td><td>--</td><td>--</td><td>6.01583333333,-72.0785555556</td></tr>\n",
       "<tr><td>9</td><td>B0021-72G</td><td>J0024-7204G</td><td>00:24:07.9</td><td>-72:04:39.6</td><td>51600.0</td><td>247.501525</td><td>2.582e-15</td><td>--</td><td>51600.0</td><td>24.44</td><td>4.0</td><td>0.7</td><td>--</td><td>--</td><td>--</td><td>--</td><td>--</td><td>--</td><td>6.03291666667,-72.0776666667</td></tr>\n",
       "<tr><td>...</td><td>...</td><td>...</td><td>...</td><td>...</td><td>...</td><td>...</td><td>...</td><td>...</td><td>...</td><td>...</td><td>...</td><td>...</td><td>...</td><td>...</td><td>...</td><td>...</td><td>...</td><td>...</td><td>...</td></tr>\n",
       "<tr><td>2527</td><td>B2327-20</td><td>J2330-2005</td><td>23:30:26.8</td><td>-20:05:29.6</td><td>49878.0</td><td>0.608412</td><td>-1.714e-15</td><td>3.4e-29</td><td>49878.0</td><td>8.46</td><td>0.47</td><td>17.2</td><td>35.0</td><td>42.0</td><td>3.0</td><td>-2.0</td><td>--</td><td>--</td><td>352.611666667,-20.0915555556</td></tr>\n",
       "<tr><td>2528</td><td>J2333+6145</td><td>J2333+6145</td><td>23:33:19.4</td><td>+61:45:30.0</td><td>56100.0</td><td>1.32118</td><td>-2.053e-15</td><td>--</td><td>56100.0</td><td>125.0</td><td>5.01</td><td>--</td><td>--</td><td>--</td><td>0.47</td><td>--</td><td>--</td><td>--</td><td>353.330833333,61.7583333333</td></tr>\n",
       "<tr><td>2529</td><td>B2334+61</td><td>J2337+6151</td><td>23:37:05.7</td><td>+61:51:01.5</td><td>53100.0</td><td>2.018694</td><td>-7.883e-13</td><td>1.446e-23</td><td>54521.0</td><td>58.41</td><td>0.7</td><td>14.5</td><td>35.7</td><td>10.0</td><td>1.4</td><td>-1.7</td><td>--</td><td>1.0</td><td>354.27375,61.8504166667</td></tr>\n",
       "<tr><td>2530</td><td>J2339-0533</td><td>J2339-0533</td><td>23:39:38.7</td><td>-05:33:05.3</td><td>55100.0</td><td>346.713379</td><td>-1.695e-15</td><td>--</td><td>55100.0</td><td>--</td><td>1.1</td><td>--</td><td>--</td><td>--</td><td>--</td><td>--</td><td>HE[rbs+14]</td><td>--</td><td>354.91125,-5.55147222222</td></tr>\n",
       "<tr><td>2531</td><td>J2340+08</td><td>J2340+08</td><td>23:40:45</td><td>+08:33:00</td><td>56098.0</td><td>3.297066</td><td>--</td><td>--</td><td>56098.0</td><td>24.0</td><td>2.28</td><td>--</td><td>--</td><td>--</td><td>--</td><td>--</td><td>--</td><td>--</td><td>355.1875,8.55</td></tr>\n",
       "<tr><td>2532</td><td>J2343+6221</td><td>J2343+6221</td><td>23:43</td><td>+62:21</td><td>--</td><td>0.555864</td><td>--</td><td>--</td><td>--</td><td>117.0</td><td>4.59</td><td>--</td><td>--</td><td>--</td><td>--</td><td>--</td><td>--</td><td>--</td><td>355.75,62.35</td></tr>\n",
       "<tr><td>2533</td><td>J2346-0609</td><td>J2346-0609</td><td>23:46:50.4</td><td>-06:09:59.5</td><td>51021.0</td><td>0.846408</td><td>-9.765e-16</td><td>-1.1e-27</td><td>51021.0</td><td>22.5</td><td>1.96</td><td>69.0</td><td>73.0</td><td>11.0</td><td>2.0</td><td>--</td><td>--</td><td>--</td><td>356.71,-6.16652777778</td></tr>\n",
       "<tr><td>2534</td><td>J2352+65</td><td>J2352+65</td><td>23:52</td><td>+65</td><td>--</td><td>0.859107</td><td>--</td><td>--</td><td>--</td><td>152.0</td><td>7.72</td><td>--</td><td>--</td><td>26.5</td><td>--</td><td>--</td><td>--</td><td>--</td><td>358.0,65.0</td></tr>\n",
       "<tr><td>2535</td><td>J2353+85</td><td>J2353+85</td><td>23:54</td><td>+85:34</td><td>--</td><td>0.988444</td><td>--</td><td>--</td><td>--</td><td>38.0</td><td>3.55</td><td>--</td><td>--</td><td>4.9</td><td>--</td><td>--</td><td>--</td><td>--</td><td>358.5,85.5666666667</td></tr>\n",
       "<tr><td>2536</td><td>B2351+61</td><td>J2354+6155</td><td>23:54:04.7</td><td>+61:55:46.7</td><td>49405.0</td><td>1.058443</td><td>-1.822e-14</td><td>2.4e-26</td><td>49405.0</td><td>94.66</td><td>3.31</td><td>10.4</td><td>37.0</td><td>15.1</td><td>5.0</td><td>-1.1</td><td>--</td><td>--</td><td>358.519583333,61.9296388889</td></tr>\n",
       "</table>"
      ],
      "text/plain": [
       "<Table masked=True length=2536>\n",
       "  #      Name        PSRJ    ...  PSRTYPE     NGLT              POS             \n",
       "                             ...                              deg,deg           \n",
       "int64   str12       str12    ...   str25    float64            object           \n",
       "----- ---------- ----------- ... ---------- ------- ----------------------------\n",
       "    1 J0006+1834  J0006+1834 ...         --      --           1.52,18.5830555556\n",
       "    2 J0007+7303  J0007+7303 ...       NRAD     1.0  1.75708333333,73.0520555556\n",
       "    3   B0011+47  J0014+4746 ...         --      --        3.57375,47.7759444444\n",
       "    4 J0023+0923  J0023+0923 ...         HE      --           5.82,9.38994444444\n",
       "    5  B0021-72C J0024-7204C ...         --      -- 5.95958333333,-72.0753888889\n",
       "    6  B0021-72D J0024-7204D ...         --      --        6.0575,-72.0788333333\n",
       "    7  B0021-72E J0024-7204E ...         --      --       6.04625,-72.0889166667\n",
       "    8  B0021-72F J0024-7204F ...         --      -- 6.01583333333,-72.0785555556\n",
       "    9  B0021-72G J0024-7204G ...         --      -- 6.03291666667,-72.0776666667\n",
       "  ...        ...         ... ...        ...     ...                          ...\n",
       " 2527   B2327-20  J2330-2005 ...         --      -- 352.611666667,-20.0915555556\n",
       " 2528 J2333+6145  J2333+6145 ...         --      --  353.330833333,61.7583333333\n",
       " 2529   B2334+61  J2337+6151 ...         --     1.0      354.27375,61.8504166667\n",
       " 2530 J2339-0533  J2339-0533 ... HE[rbs+14]      --     354.91125,-5.55147222222\n",
       " 2531   J2340+08    J2340+08 ...         --      --                355.1875,8.55\n",
       " 2532 J2343+6221  J2343+6221 ...         --      --                 355.75,62.35\n",
       " 2533 J2346-0609  J2346-0609 ...         --      --        356.71,-6.16652777778\n",
       " 2534   J2352+65    J2352+65 ...         --      --                   358.0,65.0\n",
       " 2535   J2353+85    J2353+85 ...         --      --          358.5,85.5666666667\n",
       " 2536   B2351+61  J2354+6155 ...         --      --  358.519583333,61.9296388889"
      ]
     },
     "execution_count": 26,
     "metadata": {},
     "output_type": "execute_result"
    }
   ],
   "source": [
    "a"
   ]
  },
  {
   "cell_type": "code",
   "execution_count": null,
   "metadata": {
    "collapsed": true
   },
   "outputs": [],
   "source": []
  }
 ],
 "metadata": {
  "kernelspec": {
   "display_name": "Python 2",
   "language": "python",
   "name": "python2"
  },
  "language_info": {
   "codemirror_mode": {
    "name": "ipython",
    "version": 2
   },
   "file_extension": ".py",
   "mimetype": "text/x-python",
   "name": "python",
   "nbconvert_exporter": "python",
   "pygments_lexer": "ipython2",
   "version": "2.7.6"
  },
  "latex_envs": {
   "bibliofile": "biblio.bib",
   "cite_by": "apalike",
   "current_citInitial": 1,
   "eqLabelWithNumbers": true,
   "eqNumInitial": 0
  }
 },
 "nbformat": 4,
 "nbformat_minor": 0
}
