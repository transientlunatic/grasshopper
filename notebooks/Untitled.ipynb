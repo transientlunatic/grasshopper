{
 "cells": [
  {
   "cell_type": "code",
   "execution_count": 3,
   "metadata": {
    "collapsed": true
   },
   "outputs": [],
   "source": [
    "import numpy as np\n",
    "import matplotlib.pyplot as plt\n",
    "%matplotlib inline\n",
    "import astropy.units as u\n",
    "import astropy.constants as c"
   ]
  },
  {
   "cell_type": "code",
   "execution_count": 15,
   "metadata": {
    "collapsed": true
   },
   "outputs": [],
   "source": [
    "def gravity(m1, m2, radius):\n",
    "    return (c.G * m1 * m2 / radius**2).decompose()\n",
    "\n",
    "def acceleration(m1, radius):\n",
    "    return (c.G * m1 / radius**2).decompose()"
   ]
  },
  {
   "cell_type": "code",
   "execution_count": 16,
   "metadata": {
    "collapsed": true
   },
   "outputs": [],
   "source": [
    "m1 = 10 * u.solMass\n",
    "m2 = 100 * u.solMass\n",
    "\n",
    "radius = 0.1 * u.AU"
   ]
  },
  {
   "cell_type": "code",
   "execution_count": 18,
   "metadata": {
    "collapsed": false
   },
   "outputs": [
    {
     "data": {
      "text/latex": [
       "$5.9317329 \\; \\mathrm{\\frac{m}{s^{2}}}$"
      ],
      "text/plain": [
       "<Quantity 5.931732858048708 m / s2>"
      ]
     },
     "execution_count": 18,
     "metadata": {},
     "output_type": "execute_result"
    }
   ],
   "source": [
    "acceleration(m1, radius)#.to(u.Newton)"
   ]
  },
  {
   "cell_type": "code",
   "execution_count": 19,
   "metadata": {
    "collapsed": true
   },
   "outputs": [],
   "source": [
    "# Place a black hole at the origin\n",
    "black_hole = [0,0]"
   ]
  },
  {
   "cell_type": "code",
   "execution_count": 20,
   "metadata": {
    "collapsed": true
   },
   "outputs": [],
   "source": [
    "import scipy\n",
    "\n",
    "from scipy.integrate import odeint"
   ]
  },
  {
   "cell_type": "code",
   "execution_count": 479,
   "metadata": {
    "collapsed": true
   },
   "outputs": [],
   "source": [
    "# Make the state vector\n",
    "start_distance = 0.05*u.AU\n",
    "impact_factor = .01*u.AU\n",
    "start_velocity = 7e7*u.meter/u.second\n",
    "x = [-start_distance.to(u.meter).value, impact_factor.to(u.meter).value, \\\n",
    "     start_velocity.to(u.meter/u.second).value, 0]"
   ]
  },
  {
   "cell_type": "code",
   "execution_count": 506,
   "metadata": {
    "collapsed": true
   },
   "outputs": [],
   "source": [
    "def func_ODE(X, t):\n",
    "    M = 10e4 * u.solMass\n",
    "    Gm = c.G * M.to(u.kilogram)\n",
    "    #Gm = Gm.value()\n",
    "    f = np.zeros(4)  #  x, y, z, vx, vy, vz\n",
    "    f[:2] = X[2:]    #  dx/dt = v\n",
    "    one_over_r_cubed = ((X[:3]**2).sum())**-1.5\n",
    "    f[2:] = - Gm * X[:2] * one_over_r_cubed\n",
    "\n",
    "    return f"
   ]
  },
  {
   "cell_type": "code",
   "execution_count": 507,
   "metadata": {
    "collapsed": true
   },
   "outputs": [],
   "source": [
    "times = np.linspace(0,3e2, 3e2)*u.second"
   ]
  },
  {
   "cell_type": "code",
   "execution_count": 508,
   "metadata": {
    "collapsed": false
   },
   "outputs": [],
   "source": [
    "X, output_dict = odeint(func_ODE, x, times, full_output=True)"
   ]
  },
  {
   "cell_type": "code",
   "execution_count": 509,
   "metadata": {
    "collapsed": false
   },
   "outputs": [
    {
     "data": {
      "text/plain": [
       "[<matplotlib.lines.Line2D at 0x7efee111a710>]"
      ]
     },
     "execution_count": 509,
     "metadata": {},
     "output_type": "execute_result"
    },
    {
     "data": {
      "image/png": "[encoded data removed]",
      "text/plain": [
       "<matplotlib.figure.Figure at 0x7efee1316a10>"
      ]
     },
     "metadata": {},
     "output_type": "display_data"
    }
   ],
   "source": [
    "plt.style.use('ggplot')\n",
    "plt.plot((X[:,0]*u.meter).to(u.AU)[::1], (X[:,1]*u.meter).to(u.AU)[::1], '+' )\n",
    "plt.plot((X[:,0]*u.meter).to(u.AU), (X[:,1]*u.meter).to(u.AU), lw=2)"
   ]
  },
  {
   "cell_type": "code",
   "execution_count": 395,
   "metadata": {
    "collapsed": false
   },
   "outputs": [
    {
     "data": {
      "text/plain": [
       "1000"
      ]
     },
     "execution_count": 395,
     "metadata": {},
     "output_type": "execute_result"
    }
   ],
   "source": [
    "len(X[:,0])"
   ]
  },
  {
   "cell_type": "code",
   "execution_count": null,
   "metadata": {
    "collapsed": true
   },
   "outputs": [],
   "source": []
  }
 ],
 "metadata": {
  "kernelspec": {
   "display_name": "Python 2",
   "language": "python",
   "name": "python2"
  },
  "language_info": {
   "codemirror_mode": {
    "name": "ipython",
    "version": 2
   },
   "file_extension": ".py",
   "mimetype": "text/x-python",
   "name": "python",
   "nbconvert_exporter": "python",
   "pygments_lexer": "ipython2",
   "version": "2.7.6"
  },
  "latex_envs": {
   "bibliofile": "biblio.bib",
   "cite_by": "apalike",
   "current_citInitial": 1,
   "eqLabelWithNumbers": true,
   "eqNumInitial": 0
  }
 },
 "nbformat": 4,
 "nbformat_minor": 0
}
