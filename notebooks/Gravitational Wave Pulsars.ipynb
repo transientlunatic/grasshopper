{
 "cells": [
  {
   "cell_type": "code",
   "execution_count": 1,
   "metadata": {
    "collapsed": true
   },
   "outputs": [],
   "source": [
    "import astropy.units as u\n",
    "import astropy.constants as c\n",
    "import matplotlib.pyplot as plt\n",
    "import numpy as np\n",
    "%matplotlib inline"
   ]
  },
  {
   "cell_type": "markdown",
   "metadata": {},
   "source": [
    "Pulsars are rapidly-spinning neutron stars which have slowly decreasing rotation rates.\n",
    "Their observed loss of energy, known as the spin-down luminosity,\n",
    "\\begin{equation} \\dot{E} = I_{zz} \\Omega |\\dot{\\Omega}| = 4 \\pi^2 I_{zz} f_{\\rm rot} | \\dot{f}_{\\rm rot} | \\end{equation}\n",
    "where $f_{\\rm rot}$ is the rotation frequency, and $\\dot{f}_{\\rm rot}$ the rate at which that frequency changes, and $I_{zz}$ is the moment of inertia about the principle axis of the star."
   ]
  },
  {
   "cell_type": "markdown",
   "metadata": {},
   "source": [
    "\\section{Gravitational Wave Signal}\n",
    "\n",
    "We expect the gravitational wave from a triaxial neutron star to be quadrupolar with twice the frequency of the rotation frequency of the star. The strain will be\n",
    "\\begin{equation}\n",
    "h(t) = \\frac{1}{2} F_+ (t, \\psi) h_0 (1 + \\cos^2(\\imath) \\cos(\\phi(t)) + F_{\\times} (t, \\psi) h_0 \\cos(\\imath) \\sin(\\phi(t)) \n",
    "\\end{equation}\n",
    "with\n",
    "\\begin{equation}\n",
    "h_0 = \\frac{16 \\pi^2 G}{c^4} \\frac{I_{zz} \\epsilon f_{\\rm rot}^2}{d}\n",
    "\\end{equation}\n",
    "where $F_+$ and $F_{\\times}$ are the antenna pattern responses in the two polarisation states, $\\epsilon$ is the fiducial equatorial ellipticity, $ \\epsilon = (I_{xx} - I_{yy})/I_{zz} $, and $d$ is the distance from the source."
   ]
  },
  {
   "cell_type": "code",
   "execution_count": 2,
   "metadata": {
    "collapsed": true
   },
   "outputs": [],
   "source": [
    "def strain_amplitude(frequency, izz, epsilon, distance):\n",
    "    scale = (16*np.pi**2*c.G / c.c**4)\n",
    "    second = (izz * epsilon * frequency**2) / distance\n",
    "    return scale*second"
   ]
  },
  {
   "cell_type": "code",
   "execution_count": 3,
   "metadata": {
    "collapsed": true
   },
   "outputs": [],
   "source": [
    "def spindown_luminosity(frequency, izz, epsilon):\n",
    "    scale = (2048*np.pi**6 / 5) * (c.G / c.c**5)\n",
    "    second = frequency**6 * (izz*epsilon)**2\n",
    "    return scale*second"
   ]
  },
  {
   "cell_type": "markdown",
   "metadata": {},
   "source": [
    "Taking the canonical moment of inertia, $I_{zz}\\approx 10^{38}$ kg m$^{-3}$, then we have a number of interesting pulsars we can consider."
   ]
  },
  {
   "cell_type": "code",
   "execution_count": 4,
   "metadata": {
    "collapsed": false
   },
   "outputs": [],
   "source": [
    "from astropy.io import ascii\n",
    "from data import atnf"
   ]
  },
  {
   "cell_type": "code",
   "execution_count": 5,
   "metadata": {
    "collapsed": false
   },
   "outputs": [],
   "source": [
    "data = atnf.get_atnf()"
   ]
  },
  {
   "cell_type": "code",
   "execution_count": 12,
   "metadata": {
    "collapsed": false
   },
   "outputs": [],
   "source": [
    "data['HSD'] = spindown_luminosity(data['F0'], 1e38*u.kilogram*u.meter**2, 8.6e-5, )#data['DIST'])"
   ]
  },
  {
   "cell_type": "code",
   "execution_count": 22,
   "metadata": {
    "collapsed": false
   },
   "outputs": [
    {
     "data": {
      "text/html": [
       "&lt;Row index=173 masked=True&gt;\n",
       "<table id=\"table140705213320976\">\n",
       "<thead><tr><th>#</th><th>NAME</th><th>RAJ</th><th>DECJ</th><th>F0</th><th>F1</th><th>DIST</th><th>EDOT</th><th>HSD</th></tr></thead>\n",
       "<thead><tr><th></th><th></th><th>hourangle</th><th>deg</th><th>Hz</th><th>Hz / s</th><th>kpc</th><th>erg / s</th><th>kg m2 s3</th></tr></thead>\n",
       "<thead><tr><th>int64</th><th>str12</th><th>str10</th><th>str11</th><th>float64</th><th>float64</th><th>float64</th><th>float64</th><th>float64</th></tr></thead>\n",
       "<tr><td>174</td><td>B0531+21</td><td>05:34:31.9</td><td>+22:00:52.0</td><td>29.946923</td><td>-3.775e-10</td><td>2.0</td><td>4.46e+38</td><td>5.78950719708e+29</td></tr>\n",
       "</table>"
      ],
      "text/plain": [
       "<Row index=173 masked=True>\n",
       "  #     NAME      RAJ         DECJ        F0        F1       DIST    EDOT          HSD       \n",
       "               hourangle      deg         Hz      Hz / s     kpc   erg / s       kg m2 s3    \n",
       "int64  str12     str10       str11     float64   float64   float64 float64       float64     \n",
       "----- -------- ---------- ----------- --------- ---------- ------- -------- -----------------\n",
       "  174 B0531+21 05:34:31.9 +22:00:52.0 29.946923 -3.775e-10     2.0 4.46e+38 5.78950719708e+29"
      ]
     },
     "execution_count": 22,
     "metadata": {},
     "output_type": "execute_result"
    }
   ],
   "source": [
    "data[173]"
   ]
  },
  {
   "cell_type": "code",
   "execution_count": null,
   "metadata": {
    "collapsed": true
   },
   "outputs": [],
   "source": []
  }
 ],
 "metadata": {
  "kernelspec": {
   "display_name": "Python 2",
   "language": "python",
   "name": "python2"
  },
  "language_info": {
   "codemirror_mode": {
    "name": "ipython",
    "version": 2
   },
   "file_extension": ".py",
   "mimetype": "text/x-python",
   "name": "python",
   "nbconvert_exporter": "python",
   "pygments_lexer": "ipython2",
   "version": "2.7.6"
  },
  "latex_envs": {
   "bibliofile": "biblio.bib",
   "cite_by": "apalike",
   "current_citInitial": 1,
   "eqLabelWithNumbers": true,
   "eqNumInitial": 0
  }
 },
 "nbformat": 4,
 "nbformat_minor": 0
}
