{
 "cells": [
  {
   "cell_type": "code",
   "execution_count": 10,
   "metadata": {
    "collapsed": false
   },
   "outputs": [],
   "source": [
    "import interferometers as ifo\n",
    "import astropy.units as u\n",
    "import astropy.constants as c\n",
    "import numpy as np"
   ]
  },
  {
   "cell_type": "code",
   "execution_count": 5,
   "metadata": {
    "collapsed": true
   },
   "outputs": [],
   "source": [
    "torr = 101325/760 * u.pascal"
   ]
  },
  {
   "cell_type": "code",
   "execution_count": 185,
   "metadata": {
    "collapsed": false
   },
   "outputs": [],
   "source": [
    "class AdvancedDetector(ifo.AdvancedLIGO):\n",
    "    residual_gas_pressure = 3e-6 * torr\n",
    "    temperature = 300 * u.Kelvin\n",
    "    residual_gas_mass = 2 * u.u\n",
    "    \n",
    "    properties = {\n",
    "            'infrastructure': {\n",
    "                'arms': {\n",
    "                    'number': 2,\n",
    "                    'finesse': 450,\n",
    "                },\n",
    "                'residual_gas': {\n",
    "                    'pressure': 3e-6 * torr,\n",
    "                    'mass': 2 * u.u,\n",
    "                    'polarizability': 7.8e-31 *u.meter**3\n",
    "            }\n",
    "        },\n",
    "            'suspension': {\n",
    "                'resonant_frequency': 0.75 * u.hertz,\n",
    "                'stacks_no': 4,\n",
    "        },\n",
    "        \n",
    "            'laser':  {\n",
    "                'wavelength': 1064 * u.nanometer,\n",
    "                'type': \"Nd:YAG\"\n",
    "        },\n",
    "            'optics': {\n",
    "                'curvature': {\n",
    "                    'ITM': 1934 * u.meter,\n",
    "                    'ETM': 2245 * u.meter\n",
    "                }\n",
    "            }\n",
    "        }\n",
    "    \n",
    "    def psd_seismic(self, frequency):\n",
    "        \"\"\"\n",
    "        Calculate the seismic noise for the interferometer.\n",
    "        \n",
    "        Parameters\n",
    "        ----------\n",
    "        frequency : float\n",
    "            The frequency at which the PSD should be evaluated.\n",
    "        \"\"\"\n",
    "        s_ground = 1e-18 * u.meter**2 / u.hertz * (10*u.hertz / frequency)**4\n",
    "        f_pen = self.properties['suspension']['resonant_frequency']\n",
    "        \n",
    "        return self.length**2 * s_ground * (f_pen / frequency)**4\n",
    "    \n",
    "    def residual_gas(self, frequency):\n",
    "        \"\"\"\n",
    "        Calculate the noise spectrum due to residual gas in the interferometer.\n",
    "\n",
    "        Parameters\n",
    "        ----------\n",
    "        frequency : float\n",
    "            The frequency at which the PSD should be evaluated.\n",
    "\n",
    "        Returns\n",
    "        -------\n",
    "        psd : float\n",
    "            The power spectral density due to residual gas at the frequency.\n",
    "\n",
    "        Notes\n",
    "        -----\n",
    "        This method is based off the implementation of gas noise from the GWINC\n",
    "        Matlab package. That function was itself based of the LIGO document\n",
    "            Optical Pathlength Noise in Sensitive Interferometers Due to Residual Gas.\n",
    "        See DCC P940008-00\n",
    "        \"\"\"\n",
    "        \n",
    "        number_density = self.properties['infrastructure']['residual_gas']['pressure'] / (c.k_B * self.temperature)\n",
    "        gas_velocity = np.sqrt(2*c.k_B*self.temperature / self.properties['infrastructure']['residual_gas']['mass'])\n",
    "        \n",
    "        # The g resonators of the test masses\n",
    "        g1 = 1 - self.length / self.properties['optics']['curvature']['ITM']\n",
    "        g2 = 1 - self.length / self.properties['optics']['curvature']['ETM']\n",
    "        \n",
    "        # The beam waist size\n",
    "        waist = self.length * self.properties['laser']['wavelength']\n",
    "        waist *= np.sqrt(((g1*g2)*(1-g1*g2)) / (g1+g2-2*g1*g2)**2)\n",
    "        waist = np.sqrt(waist)\n",
    "        \n",
    "        # The Rayleigh range\n",
    "        rayleigh = (np.pi * waist**2 / self.properties['laser']['wavelength']).to(u.meter)\n",
    "        \n",
    "        # ITM location relative to the waist\n",
    "        z_itm = (- (( g2*(1-g1) ) / (g1+g2 - 2*g1*g2))*self.length).to(u.meter)\n",
    "        z_etm = ((( g1*(1-g2) ) / (g1+g2 - 2*g1*g2))*self.length).to(u.meter)\n",
    "        \n",
    "        # Take the first-order expansion of the integral to avoid\n",
    "        # the need for numerical integration.\n",
    "        z_int = np.log(z_etm.value + np.sqrt(z_etm**2 + rayleigh**2).value)\n",
    "        z_int -= np.log(z_itm.value + np.sqrt(z_itm**2 + rayleigh**2).value)\n",
    "        z_int *= rayleigh / waist\n",
    "        z_int = z_int - 2*np.pi*self.length*frequency / gas_velocity\n",
    "        #print z_int\n",
    "        # Calculate the path length for a single arm\n",
    "        z_int *= ( (4*number_density*(2*np.pi*self.properties['infrastructure']['residual_gas']['polarizability'])**2)/gas_velocity)\n",
    "        z_int[z_int < 0] = 0\n",
    "        psd = self.properties['infrastructure']['arms']['number'] * z_int / self.length**2\n",
    "        return np.sqrt(psd).decompose()"
   ]
  },
  {
   "cell_type": "code",
   "execution_count": 186,
   "metadata": {
    "collapsed": true
   },
   "outputs": [],
   "source": [
    "test = AdvancedDetector()"
   ]
  },
  {
   "cell_type": "code",
   "execution_count": 187,
   "metadata": {
    "collapsed": false
   },
   "outputs": [
    {
     "data": {
      "text/latex": [
       "$9.9060429 \\times 10^{-24} \\; \\mathrm{s^{1/2}}$"
      ],
      "text/plain": [
       "<Quantity 9.906042913450577e-24 s(1/2)>"
      ]
     },
     "execution_count": 187,
     "metadata": {},
     "output_type": "execute_result"
    }
   ],
   "source": [
    "test.residual_gas(1000*u.hertz)"
   ]
  },
  {
   "cell_type": "code",
   "execution_count": 188,
   "metadata": {
    "collapsed": true
   },
   "outputs": [],
   "source": [
    "import matplotlib.pyplot as plt\n",
    "plt.style.use('ggplot')\n",
    "%matplotlib inline"
   ]
  },
  {
   "cell_type": "code",
   "execution_count": 189,
   "metadata": {
    "collapsed": false
   },
   "outputs": [
    {
     "data": {
      "text/latex": [
       "$5.0625 \\times 10^{-22} \\; \\mathrm{\\frac{km^{2}\\,m^{2}}{Hz}}$"
      ],
      "text/plain": [
       "<Quantity 5.0625e-22 km2 m2 / Hz>"
      ]
     },
     "execution_count": 189,
     "metadata": {},
     "output_type": "execute_result"
    }
   ],
   "source": [
    "test.psd_seismic(frequencies[0])"
   ]
  },
  {
   "cell_type": "code",
   "execution_count": 197,
   "metadata": {
    "collapsed": false
   },
   "outputs": [],
   "source": [
    "frequencies = np.logspace(0, 4, 1000)*u.hertz"
   ]
  },
  {
   "cell_type": "code",
   "execution_count": 199,
   "metadata": {
    "collapsed": false
   },
   "outputs": [
    {
     "data": {
      "text/plain": [
       "<matplotlib.legend.Legend at 0x7ff6e7bc2d10>"
      ]
     },
     "execution_count": 199,
     "metadata": {},
     "output_type": "execute_result"
    },
    {
     "data": {
      "image/png": "[encoded data removed]",
      "text/plain": [
       "<matplotlib.figure.Figure at 0x7ff6e8c19d50>"
      ]
     },
     "metadata": {},
     "output_type": "display_data"
    }
   ],
   "source": [
    "fig, ax = plt.subplots(1)\n",
    "ax.plot(frequencies, test.residual_gas(frequencies), label='Res. Gas')\n",
    "ax.plot(frequencies, test.psd_seismic(frequencies), label='Seismic')\n",
    "test.plot(ax)\n",
    "ax.set_xlim([1e-0, 1e5])\n",
    "ax.set_ylim([1e-24, 1e-18])\n",
    "plt.legend()"
   ]
  },
  {
   "cell_type": "code",
   "execution_count": 200,
   "metadata": {
    "collapsed": false
   },
   "outputs": [
    {
     "data": {
      "image/png": "[encoded data removed]",
      "text/plain": [
       "<matplotlib.figure.Figure at 0x7ff6e8c19d50>"
      ]
     },
     "execution_count": 200,
     "metadata": {},
     "output_type": "execute_result"
    }
   ],
   "source": [
    "fig"
   ]
  },
  {
   "cell_type": "code",
   "execution_count": 202,
   "metadata": {
    "collapsed": false
   },
   "outputs": [],
   "source": [
    "import lalburst"
   ]
  },
  {
   "cell_type": "code",
   "execution_count": 203,
   "metadata": {
    "collapsed": true
   },
   "outputs": [],
   "source": [
    "?lalburst.DestroySimBurst"
   ]
  },
  {
   "cell_type": "code",
   "execution_count": 204,
   "metadata": {
    "collapsed": true
   },
   "outputs": [],
   "source": [
    "?lalburst.GenerateSimBurst"
   ]
  },
  {
   "cell_type": "code",
   "execution_count": 205,
   "metadata": {
    "collapsed": true
   },
   "outputs": [],
   "source": [
    "import lal"
   ]
  },
  {
   "cell_type": "code",
   "execution_count": 206,
   "metadata": {
    "collapsed": false
   },
   "outputs": [
    {
     "data": {
      "text/plain": [
       "<function _lal.DestroyREAL8Sequence>"
      ]
     },
     "execution_count": 206,
     "metadata": {},
     "output_type": "execute_result"
    }
   ],
   "source": [
    "lal.DestroyREAL8Sequence"
   ]
  },
  {
   "cell_type": "code",
   "execution_count": 208,
   "metadata": {
    "collapsed": false
   },
   "outputs": [],
   "source": [
    "c = np.random.rand(10) - 0.5"
   ]
  },
  {
   "cell_type": "code",
   "execution_count": 216,
   "metadata": {
    "collapsed": false
   },
   "outputs": [
    {
     "data": {
      "text/plain": [
       "False"
      ]
     },
     "execution_count": 216,
     "metadata": {},
     "output_type": "execute_result"
    }
   ],
   "source": [
    "(c>0).all()"
   ]
  },
  {
   "cell_type": "code",
   "execution_count": 218,
   "metadata": {
    "collapsed": false
   },
   "outputs": [
    {
     "data": {
      "text/plain": [
       "array([ 0.37751257, -0.31408815,  0.34505414, -0.25138107,  0.00452426,\n",
       "       -0.29951712, -0.42086505,  0.39938216,  0.07741457, -0.1160444 ,\n",
       "        0.37751257, -0.31408815,  0.34505414, -0.25138107,  0.00452426,\n",
       "       -0.29951712, -0.42086505,  0.39938216,  0.07741457, -0.1160444 ])"
      ]
     },
     "execution_count": 218,
     "metadata": {},
     "output_type": "execute_result"
    }
   ],
   "source": [
    "np.append(c,c)"
   ]
  },
  {
   "cell_type": "code",
   "execution_count": 210,
   "metadata": {
    "collapsed": false
   },
   "outputs": [
    {
     "data": {
      "text/plain": [
       "False"
      ]
     },
     "execution_count": 210,
     "metadata": {},
     "output_type": "execute_result"
    }
   ],
   "source": [
    "np.all(c > 0)"
   ]
  },
  {
   "cell_type": "code",
   "execution_count": 212,
   "metadata": {
    "collapsed": false
   },
   "outputs": [
    {
     "data": {
      "text/plain": [
       "True"
      ]
     },
     "execution_count": 212,
     "metadata": {},
     "output_type": "execute_result"
    }
   ],
   "source": [
    "c.all() > 0"
   ]
  },
  {
   "cell_type": "code",
   "execution_count": null,
   "metadata": {
    "collapsed": true
   },
   "outputs": [],
   "source": []
  }
 ],
 "metadata": {
  "kernelspec": {
   "display_name": "Python 2",
   "language": "python",
   "name": "python2"
  },
  "language_info": {
   "codemirror_mode": {
    "name": "ipython",
    "version": 2
   },
   "file_extension": ".py",
   "mimetype": "text/x-python",
   "name": "python",
   "nbconvert_exporter": "python",
   "pygments_lexer": "ipython2",
   "version": "2.7.6"
  },
  "latex_envs": {
   "bibliofile": "biblio.bib",
   "cite_by": "apalike",
   "current_citInitial": 1,
   "eqLabelWithNumbers": true,
   "eqNumInitial": 0
  }
 },
 "nbformat": 4,
 "nbformat_minor": 0
}
