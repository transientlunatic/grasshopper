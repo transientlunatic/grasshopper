{
 "cells": [
  {
   "cell_type": "code",
   "execution_count": 7,
   "metadata": {
    "collapsed": true
   },
   "outputs": [],
   "source": [
    "import matplotlib.pyplot as plt\n",
    "%matplotlib inline\n",
    "import numpy as np\n",
    "plt.style.use(\"/home/daniel/papers/thesis/thesis-style.mpl\")"
   ]
  },
  {
   "cell_type": "code",
   "execution_count": 38,
   "metadata": {},
   "outputs": [],
   "source": [
    "allegro = {\"strain\": 7e-19, \"frequency\": 900, \"name\": \"ALLEGRO\", \"bandwidth\": 20, \"fc\": 915}\n",
    "explorer = {\"strain\": 7.1e-19, \"frequency\": 900, \"name\": \"EXPLORER\", \"bandwidth\": 20, \"fc\": 915}\n",
    "nautilus = {\"strain\": 6e-19, \"frequency\": 900, \"name\": \"NAUTILUS\", \"bandwidth\": 20, \"fc\": 915}\n",
    "auriga = {\"strain\": 3e-19, \"frequency\": 900, \"name\": \"AURIGA\", \"bandwidth\": 20, \"fc\": 915}"
   ]
  },
  {
   "cell_type": "code",
   "execution_count": 42,
   "metadata": {},
   "outputs": [
    {
     "data": {
      "image/png": "[encoded data removed]",
      "text/plain": [
       "<matplotlib.figure.Figure at 0x7ff432ce09e8>"
      ]
     },
     "metadata": {},
     "output_type": "display_data"
    }
   ],
   "source": [
    "fig, ax = plt.subplots(1,1, figsize = (2.5,2.5))\n",
    "for detector in (allegro, explorer, nautilus):\n",
    "    frequencies = np.linspace(0, detector['bandwidth'], 1000) - (detector[\"bandwidth\"]/2) + detector[\"fc\"]\n",
    "    strains = np.ones(len(frequencies)) * detector[\"strain\"]\n",
    "    ax.plot(frequencies, np.sqrt(frequencies**-1*strains**2), label=detector[\"name\"])\n",
    "    ax.set_xlim([900, 930]);\n",
    "    #ax.set_ylim([1e-11, 1e-8]);\n",
    "    ax.set_ylabel(\"Characteristic Strain\")\n",
    "    ax.set_xlabel(\"Frequency [Hz]\")\n",
    "    ax.legend()\n",
    "plt.tight_layout()\n",
    "fig.savefig(\"/home/daniel/papers/thesis/figures/bar-detector-psd.pdf\")"
   ]
  },
  {
   "cell_type": "code",
   "execution_count": null,
   "metadata": {
    "collapsed": true
   },
   "outputs": [],
   "source": []
  }
 ],
 "metadata": {
  "kernelspec": {
   "display_name": "Python 3",
   "language": "python",
   "name": "python3"
  },
  "language_info": {
   "codemirror_mode": {
    "name": "ipython",
    "version": 3
   },
   "file_extension": ".py",
   "mimetype": "text/x-python",
   "name": "python",
   "nbconvert_exporter": "python",
   "pygments_lexer": "ipython3",
   "version": "3.5.2"
  }
 },
 "nbformat": 4,
 "nbformat_minor": 2
}
