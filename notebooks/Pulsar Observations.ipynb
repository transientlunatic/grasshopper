{
 "cells": [
  {
   "cell_type": "code",
   "execution_count": 1,
   "metadata": {
    "collapsed": true
   },
   "outputs": [],
   "source": [
    "import data.atnf"
   ]
  },
  {
   "cell_type": "code",
   "execution_count": 2,
   "metadata": {
    "collapsed": true
   },
   "outputs": [],
   "source": [
    "catalogue = data.atnf.get_atnf()"
   ]
  },
  {
   "cell_type": "code",
   "execution_count": 54,
   "metadata": {},
   "outputs": [
    {
     "data": {
      "image/png": "[encoded data removed]",
      "text/plain": [
       "<matplotlib.figure.Figure at 0x7f20afeb8390>"
      ]
     },
     "metadata": {},
     "output_type": "display_data"
    }
   ],
   "source": [
    "import matplotlib.pyplot as plt\n",
    "%matplotlib inline\n",
    "fig, ax = plt.subplots(1,1)#, figsize=(2.5, 2.5))\n",
    "plt.style.use(\"/home/daniel/papers/thesis/thesis-style.mpl\")\n",
    "ax.loglog(catalogue['F0'][np.isfinite(catalogue['F1'])], catalogue['F1'][np.isfinite(catalogue['F1'])], '+')\n",
    "ax.set_xlabel(\"Frequency [Hz]\")\n",
    "ax.set_ylabel(\"Frequency derivative [Hz / Hz]\")\n",
    "ax.set_xlim([1, 1e3])\n",
    "plt.tight_layout()"
   ]
  },
  {
   "cell_type": "code",
   "execution_count": 58,
   "metadata": {},
   "outputs": [
    {
     "data": {
      "text/html": [
       "&lt;Table masked=True length=2536&gt;\n",
       "<table id=\"table139779269891856\" class=\"table-striped table-bordered table-condensed\">\n",
       "<thead><tr><th>#</th><th>Name</th><th>PSRJ</th><th>RAJ</th><th>DECJ</th><th>POSEPOCH</th><th>F0</th><th>F1</th><th>F2</th><th>PEPOCH</th><th>DM</th><th>DIST</th><th>W50</th><th>W10</th><th>S400</th><th>S1400</th><th>SPINDX</th><th>PSRTYPE</th><th>NGLT</th><th>POS</th></tr></thead>\n",
       "<thead><tr><th></th><th></th><th></th><th>hourangle</th><th>deg</th><th></th><th>Hz</th><th>Hz / s</th><th>Hz / s2</th><th></th><th>pc / cm3</th><th>kpc</th><th>ms</th><th>ms</th><th></th><th></th><th></th><th></th><th></th><th>deg,deg</th></tr></thead>\n",
       "<thead><tr><th>int64</th><th>str12</th><th>str12</th><th>str10</th><th>str11</th><th>float64</th><th>float64</th><th>float64</th><th>float64</th><th>float64</th><th>float64</th><th>float64</th><th>float64</th><th>float64</th><th>float64</th><th>float64</th><th>float64</th><th>str25</th><th>float64</th><th>object</th></tr></thead>\n",
       "<tr><td>1</td><td>J0006+1834</td><td>J0006+1834</td><td>00:06:04.8</td><td>+18:34:59</td><td>49079.5</td><td>1.441446</td><td>-4.357e-15</td><td>--</td><td>49079.5</td><td>12.0</td><td>0.7</td><td>82.0</td><td>195.0</td><td>0.2</td><td>--</td><td>--</td><td>--</td><td>--</td><td>1.52,18.583055555555557</td></tr>\n",
       "<tr><td>2</td><td>J0007+7303</td><td>J0007+7303</td><td>00:07:01.7</td><td>+73:03:07.4</td><td>54952.0</td><td>3.165827</td><td>-3.612e-12</td><td>4.1e-23</td><td>54952.0</td><td>--</td><td>1.4</td><td>--</td><td>--</td><td>--</td><td>--</td><td>--</td><td>NRAD</td><td>1.0</td><td>1.757083333333333,73.05205555555555</td></tr>\n",
       "<tr><td>3</td><td>B0011+47</td><td>J0014+4746</td><td>00:14:17.7</td><td>+47:46:33.4</td><td>49664.0</td><td>0.805997</td><td>-3.667e-16</td><td>7.3e-28</td><td>49664.0</td><td>30.85</td><td>1.82</td><td>88.7</td><td>142.5</td><td>14.0</td><td>3.0</td><td>-1.3</td><td>--</td><td>--</td><td>3.57375,47.77594444444444</td></tr>\n",
       "<tr><td>4</td><td>J0023+0923</td><td>J0023+0923</td><td>00:23:16.8</td><td>+09:23:23.8</td><td>56179.0</td><td>327.868852</td><td>--</td><td>--</td><td>--</td><td>14.3</td><td>1.0</td><td>--</td><td>--</td><td>2.0</td><td>--</td><td>--</td><td>HE</td><td>--</td><td>5.819999999999999,9.389944444444444</td></tr>\n",
       "<tr><td>5</td><td>B0021-72C</td><td>J0024-7204C</td><td>00:23:50.3</td><td>-72:04:31.4</td><td>51600.0</td><td>173.708219</td><td>1.504e-15</td><td>--</td><td>51600.0</td><td>24.6</td><td>4.0</td><td>0.8</td><td>--</td><td>1.53</td><td>0.6</td><td>--</td><td>--</td><td>--</td><td>5.959583333333333,-72.07538888888888</td></tr>\n",
       "<tr><td>6</td><td>B0021-72D</td><td>J0024-7204D</td><td>00:24:13.8</td><td>-72:04:43.8</td><td>51600.0</td><td>186.65167</td><td>1.195e-16</td><td>--</td><td>51600.0</td><td>24.73</td><td>4.0</td><td>0.6</td><td>--</td><td>0.95</td><td>--</td><td>--</td><td>--</td><td>--</td><td>6.0575,-72.07883333333334</td></tr>\n",
       "<tr><td>7</td><td>B0021-72E</td><td>J0024-7204E</td><td>00:24:11.1</td><td>-72:05:20.1</td><td>51600.0</td><td>282.779107</td><td>-7.877e-15</td><td>--</td><td>51600.0</td><td>24.23</td><td>4.0</td><td>0.9</td><td>--</td><td>--</td><td>--</td><td>--</td><td>--</td><td>--</td><td>6.04625,-72.08891666666666</td></tr>\n",
       "<tr><td>8</td><td>B0021-72F</td><td>J0024-7204F</td><td>00:24:03.8</td><td>-72:04:42.8</td><td>51600.0</td><td>381.158664</td><td>-9.371e-15</td><td>--</td><td>51600.0</td><td>24.38</td><td>4.0</td><td>0.5</td><td>--</td><td>--</td><td>--</td><td>--</td><td>--</td><td>--</td><td>6.015833333333332,-72.07855555555555</td></tr>\n",
       "<tr><td>9</td><td>B0021-72G</td><td>J0024-7204G</td><td>00:24:07.9</td><td>-72:04:39.6</td><td>51600.0</td><td>247.501525</td><td>2.582e-15</td><td>--</td><td>51600.0</td><td>24.44</td><td>4.0</td><td>0.7</td><td>--</td><td>--</td><td>--</td><td>--</td><td>--</td><td>--</td><td>6.032916666666666,-72.07766666666666</td></tr>\n",
       "<tr><td>...</td><td>...</td><td>...</td><td>...</td><td>...</td><td>...</td><td>...</td><td>...</td><td>...</td><td>...</td><td>...</td><td>...</td><td>...</td><td>...</td><td>...</td><td>...</td><td>...</td><td>...</td><td>...</td><td>...</td></tr>\n",
       "<tr><td>2527</td><td>B2327-20</td><td>J2330-2005</td><td>23:30:26.8</td><td>-20:05:29.6</td><td>49878.0</td><td>0.608412</td><td>-1.714e-15</td><td>3.4e-29</td><td>49878.0</td><td>8.46</td><td>0.47</td><td>17.2</td><td>35.0</td><td>42.0</td><td>3.0</td><td>-2.0</td><td>--</td><td>--</td><td>352.6116666666666,-20.091555555555555</td></tr>\n",
       "<tr><td>2528</td><td>J2333+6145</td><td>J2333+6145</td><td>23:33:19.4</td><td>+61:45:30.0</td><td>56100.0</td><td>1.32118</td><td>-2.053e-15</td><td>--</td><td>56100.0</td><td>125.0</td><td>5.01</td><td>--</td><td>--</td><td>--</td><td>0.47</td><td>--</td><td>--</td><td>--</td><td>353.33083333333326,61.75833333333333</td></tr>\n",
       "<tr><td>2529</td><td>B2334+61</td><td>J2337+6151</td><td>23:37:05.7</td><td>+61:51:01.5</td><td>53100.0</td><td>2.018694</td><td>-7.883e-13</td><td>1.446e-23</td><td>54521.0</td><td>58.41</td><td>0.7</td><td>14.5</td><td>35.7</td><td>10.0</td><td>1.4</td><td>-1.7</td><td>--</td><td>1.0</td><td>354.27374999999995,61.85041666666667</td></tr>\n",
       "<tr><td>2530</td><td>J2339-0533</td><td>J2339-0533</td><td>23:39:38.7</td><td>-05:33:05.3</td><td>55100.0</td><td>346.713379</td><td>-1.695e-15</td><td>--</td><td>55100.0</td><td>--</td><td>1.1</td><td>--</td><td>--</td><td>--</td><td>--</td><td>--</td><td>HE[rbs+14]</td><td>--</td><td>354.91124999999994,-5.551472222222222</td></tr>\n",
       "<tr><td>2531</td><td>J2340+08</td><td>J2340+08</td><td>23:40:45</td><td>+08:33:00</td><td>56098.0</td><td>3.297066</td><td>--</td><td>--</td><td>56098.0</td><td>24.0</td><td>2.28</td><td>--</td><td>--</td><td>--</td><td>--</td><td>--</td><td>--</td><td>--</td><td>355.18749999999994,8.55</td></tr>\n",
       "<tr><td>2532</td><td>J2343+6221</td><td>J2343+6221</td><td>23:43</td><td>+62:21</td><td>--</td><td>0.555864</td><td>--</td><td>--</td><td>--</td><td>117.0</td><td>4.59</td><td>--</td><td>--</td><td>--</td><td>--</td><td>--</td><td>--</td><td>--</td><td>355.74999999999994,62.35</td></tr>\n",
       "<tr><td>2533</td><td>J2346-0609</td><td>J2346-0609</td><td>23:46:50.4</td><td>-06:09:59.5</td><td>51021.0</td><td>0.846408</td><td>-9.765e-16</td><td>-1.1e-27</td><td>51021.0</td><td>22.5</td><td>1.96</td><td>69.0</td><td>73.0</td><td>11.0</td><td>2.0</td><td>--</td><td>--</td><td>--</td><td>356.7099999999999,-6.1665277777777785</td></tr>\n",
       "<tr><td>2534</td><td>J2352+65</td><td>J2352+65</td><td>23:52</td><td>+65</td><td>--</td><td>0.859107</td><td>--</td><td>--</td><td>--</td><td>152.0</td><td>7.72</td><td>--</td><td>--</td><td>26.5</td><td>--</td><td>--</td><td>--</td><td>--</td><td>357.99999999999994,65.0</td></tr>\n",
       "<tr><td>2535</td><td>J2353+85</td><td>J2353+85</td><td>23:54</td><td>+85:34</td><td>--</td><td>0.988444</td><td>--</td><td>--</td><td>--</td><td>38.0</td><td>3.55</td><td>--</td><td>--</td><td>4.9</td><td>--</td><td>--</td><td>--</td><td>--</td><td>358.49999999999994,85.56666666666666</td></tr>\n",
       "<tr><td>2536</td><td>B2351+61</td><td>J2354+6155</td><td>23:54:04.7</td><td>+61:55:46.7</td><td>49405.0</td><td>1.058443</td><td>-1.822e-14</td><td>2.4e-26</td><td>49405.0</td><td>94.66</td><td>3.31</td><td>10.4</td><td>37.0</td><td>15.1</td><td>5.0</td><td>-1.1</td><td>--</td><td>--</td><td>358.51958333333323,61.92963888888889</td></tr>\n",
       "</table>"
      ],
      "text/plain": [
       "<Table masked=True length=2536>\n",
       "  #      Name        PSRJ    ...   NGLT                   POS                 \n",
       "                             ...                        deg,deg               \n",
       "int64   str12       str12    ... float64                 object               \n",
       "----- ---------- ----------- ... ------- -------------------------------------\n",
       "    1 J0006+1834  J0006+1834 ...      --               1.52,18.583055555555557\n",
       "    2 J0007+7303  J0007+7303 ...     1.0   1.757083333333333,73.05205555555555\n",
       "    3   B0011+47  J0014+4746 ...      --             3.57375,47.77594444444444\n",
       "    4 J0023+0923  J0023+0923 ...      --   5.819999999999999,9.389944444444444\n",
       "    5  B0021-72C J0024-7204C ...      --  5.959583333333333,-72.07538888888888\n",
       "    6  B0021-72D J0024-7204D ...      --             6.0575,-72.07883333333334\n",
       "    7  B0021-72E J0024-7204E ...      --            6.04625,-72.08891666666666\n",
       "    8  B0021-72F J0024-7204F ...      --  6.015833333333332,-72.07855555555555\n",
       "    9  B0021-72G J0024-7204G ...      --  6.032916666666666,-72.07766666666666\n",
       "  ...        ...         ... ...     ...                                   ...\n",
       " 2527   B2327-20  J2330-2005 ...      -- 352.6116666666666,-20.091555555555555\n",
       " 2528 J2333+6145  J2333+6145 ...      --  353.33083333333326,61.75833333333333\n",
       " 2529   B2334+61  J2337+6151 ...     1.0  354.27374999999995,61.85041666666667\n",
       " 2530 J2339-0533  J2339-0533 ...      -- 354.91124999999994,-5.551472222222222\n",
       " 2531   J2340+08    J2340+08 ...      --               355.18749999999994,8.55\n",
       " 2532 J2343+6221  J2343+6221 ...      --              355.74999999999994,62.35\n",
       " 2533 J2346-0609  J2346-0609 ...      -- 356.7099999999999,-6.1665277777777785\n",
       " 2534   J2352+65    J2352+65 ...      --               357.99999999999994,65.0\n",
       " 2535   J2353+85    J2353+85 ...      --  358.49999999999994,85.56666666666666\n",
       " 2536   B2351+61  J2354+6155 ...      --  358.51958333333323,61.92963888888889"
      ]
     },
     "execution_count": 58,
     "metadata": {},
     "output_type": "execute_result"
    }
   ],
   "source": [
    "catalogue"
   ]
  },
  {
   "cell_type": "code",
   "execution_count": 7,
   "metadata": {
    "collapsed": true
   },
   "outputs": [],
   "source": [
    "from grasshopper import sources\n",
    "import grasshopper.interferometers as ifo\n",
    "import astropy.units as u\n",
    "import numpy as np"
   ]
  },
  {
   "cell_type": "code",
   "execution_count": 37,
   "metadata": {
    "collapsed": true
   },
   "outputs": [],
   "source": [
    "Izz = .02#1e-4*10**38#0.28*10**34 / 0.366*1e-4 * (np.sqrt(8*np.pi)/15)\n",
    "pulsar = sources.Pulsar(\"J0534+2200\", Izz=Izz*u.kilogram*u.meter**2)\n",
    "aligo = ifo.AdvancedLIGO(obs_time = 365*3600*u.second)# configuration=\"O1\")"
   ]
  },
  {
   "cell_type": "code",
   "execution_count": 38,
   "metadata": {},
   "outputs": [
    {
     "data": {
      "image/png": "[encoded data removed]",
      "text/plain": [
       "<matplotlib.figure.Figure at 0x7f4986836160>"
      ]
     },
     "metadata": {},
     "output_type": "display_data"
    }
   ],
   "source": [
    "import matplotlib.pyplot as plt\n",
    "plt.style.use(\"/home/daniel/papers/thesis/thesis-style.mpl\")\n",
    "%matplotlib inline\n",
    "fig, ax = plt.subplots(1,1, figsize=(2.5, 2.5))\n",
    "aligo.plot(ax)\n",
    "pulsar.plot(ax)\n",
    "#ax.set_xlim(10, 1000)\n",
    "#ax.set_ylim(1e-26, 1e-23)\n",
    "plt.tight_layout()\n",
    "fig.savefig(\"/home/daniel/papers/thesis/figures/crab-strain-o1.pdf\")"
   ]
  },
  {
   "cell_type": "code",
   "execution_count": null,
   "metadata": {
    "collapsed": true
   },
   "outputs": [],
   "source": []
  }
 ],
 "metadata": {
  "kernelspec": {
   "display_name": "Python 3",
   "language": "python",
   "name": "python3"
  },
  "language_info": {
   "codemirror_mode": {
    "name": "ipython",
    "version": 3
   },
   "file_extension": ".py",
   "mimetype": "text/x-python",
   "name": "python",
   "nbconvert_exporter": "python",
   "pygments_lexer": "ipython3",
   "version": "3.5.2"
  }
 },
 "nbformat": 4,
 "nbformat_minor": 2
}
